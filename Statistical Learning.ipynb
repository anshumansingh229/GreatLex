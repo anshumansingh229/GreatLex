{
 "cells": [
  {
   "cell_type": "code",
   "execution_count": 38,
   "metadata": {},
   "outputs": [],
   "source": [
    "import warnings \n",
    "warnings.filterwarnings('ignore')\n",
    "\n",
    "# Numerical libraries\n",
    "import numpy as np   \n",
    "# to handle data in form of rows and columns \n",
    "import pandas as pd"
   ]
  },
  {
   "cell_type": "code",
   "execution_count": 39,
   "metadata": {},
   "outputs": [
    {
     "data": {
      "text/html": [
       "<div>\n",
       "<style scoped>\n",
       "    .dataframe tbody tr th:only-of-type {\n",
       "        vertical-align: middle;\n",
       "    }\n",
       "\n",
       "    .dataframe tbody tr th {\n",
       "        vertical-align: top;\n",
       "    }\n",
       "\n",
       "    .dataframe thead th {\n",
       "        text-align: right;\n",
       "    }\n",
       "</style>\n",
       "<table border=\"1\" class=\"dataframe\">\n",
       "  <thead>\n",
       "    <tr style=\"text-align: right;\">\n",
       "      <th></th>\n",
       "      <th>SALESPERSON</th>\n",
       "      <th>Old Scheme (in thousands)</th>\n",
       "      <th>New Scheme (in thousands)</th>\n",
       "    </tr>\n",
       "  </thead>\n",
       "  <tbody>\n",
       "    <tr>\n",
       "      <th>0</th>\n",
       "      <td>1</td>\n",
       "      <td>57</td>\n",
       "      <td>62</td>\n",
       "    </tr>\n",
       "    <tr>\n",
       "      <th>1</th>\n",
       "      <td>2</td>\n",
       "      <td>103</td>\n",
       "      <td>122</td>\n",
       "    </tr>\n",
       "    <tr>\n",
       "      <th>2</th>\n",
       "      <td>3</td>\n",
       "      <td>59</td>\n",
       "      <td>54</td>\n",
       "    </tr>\n",
       "    <tr>\n",
       "      <th>3</th>\n",
       "      <td>4</td>\n",
       "      <td>75</td>\n",
       "      <td>82</td>\n",
       "    </tr>\n",
       "    <tr>\n",
       "      <th>4</th>\n",
       "      <td>5</td>\n",
       "      <td>84</td>\n",
       "      <td>84</td>\n",
       "    </tr>\n",
       "    <tr>\n",
       "      <th>5</th>\n",
       "      <td>6</td>\n",
       "      <td>73</td>\n",
       "      <td>86</td>\n",
       "    </tr>\n",
       "    <tr>\n",
       "      <th>6</th>\n",
       "      <td>7</td>\n",
       "      <td>35</td>\n",
       "      <td>32</td>\n",
       "    </tr>\n",
       "    <tr>\n",
       "      <th>7</th>\n",
       "      <td>8</td>\n",
       "      <td>110</td>\n",
       "      <td>104</td>\n",
       "    </tr>\n",
       "    <tr>\n",
       "      <th>8</th>\n",
       "      <td>9</td>\n",
       "      <td>44</td>\n",
       "      <td>38</td>\n",
       "    </tr>\n",
       "    <tr>\n",
       "      <th>9</th>\n",
       "      <td>10</td>\n",
       "      <td>82</td>\n",
       "      <td>107</td>\n",
       "    </tr>\n",
       "  </tbody>\n",
       "</table>\n",
       "</div>"
      ],
      "text/plain": [
       "   SALESPERSON  Old Scheme (in thousands)  New Scheme (in thousands)\n",
       "0            1                         57                         62\n",
       "1            2                        103                        122\n",
       "2            3                         59                         54\n",
       "3            4                         75                         82\n",
       "4            5                         84                         84\n",
       "5            6                         73                         86\n",
       "6            7                         35                         32\n",
       "7            8                        110                        104\n",
       "8            9                         44                         38\n",
       "9           10                         82                        107"
      ]
     },
     "execution_count": 39,
     "metadata": {},
     "output_type": "execute_result"
    }
   ],
   "source": [
    "#Import data.csv\n",
    "df =  pd.read_csv('C:\\\\Users\\\\anshumans\\\\Downloads\\\\data.csv')\n",
    "\n",
    "df.head(10)"
   ]
  },
  {
   "cell_type": "code",
   "execution_count": 40,
   "metadata": {},
   "outputs": [
    {
     "data": {
      "text/plain": [
       "68.03333333333333"
      ]
     },
     "execution_count": 40,
     "metadata": {},
     "output_type": "execute_result"
    }
   ],
   "source": [
    "#Find the mean of old scheme and new scheme column.\n",
    "#Mean of Old Schema\n",
    "df['Old Scheme (in thousands)'].mean()"
   ]
  },
  {
   "cell_type": "code",
   "execution_count": 41,
   "metadata": {},
   "outputs": [
    {
     "data": {
      "text/plain": [
       "72.03333333333333"
      ]
     },
     "execution_count": 41,
     "metadata": {},
     "output_type": "execute_result"
    }
   ],
   "source": [
    "#Mean of New Schema\n",
    "df['New Scheme (in thousands)'].mean()"
   ]
  },
  {
   "cell_type": "code",
   "execution_count": 42,
   "metadata": {},
   "outputs": [],
   "source": [
    "#Use the five percent significance test over the data \n",
    "#to determine the p value to check new scheme has significantly raised outputs?"
   ]
  },
  {
   "cell_type": "code",
   "execution_count": 43,
   "metadata": {},
   "outputs": [],
   "source": [
    "from    scipy.stats             import  ttest_1samp,ttest_ind, wilcoxon, ttest_ind_from_stats\n",
    "import  scipy.stats             as      stats  \n",
    "from    statsmodels.stats.power import  ttest_power\n",
    "import  matplotlib.pyplot       as      plt"
   ]
  },
  {
   "cell_type": "code",
   "execution_count": 44,
   "metadata": {},
   "outputs": [
    {
     "name": "stdout",
     "output_type": "stream",
     "text": [
      "[ 57 103  59  75  84  73  35 110  44  82  67  64  78  53  41  39  80  87\n",
      "  73  65  28  62  49  84  63  77  67 101  91  50]\n"
     ]
    }
   ],
   "source": [
    "oldSchema = np.array(df['Old Scheme (in thousands)'])\n",
    "print(oldSchema)"
   ]
  },
  {
   "cell_type": "code",
   "execution_count": 45,
   "metadata": {},
   "outputs": [
    {
     "name": "stdout",
     "output_type": "stream",
     "text": [
      "[ 62 122  54  82  84  86  32 104  38 107  84  85  99  39  34  58  73  53\n",
      "  66  78  41  71  38  95  81  58  75  94 100  68]\n"
     ]
    }
   ],
   "source": [
    "newSchema = np.array(df['New Scheme (in thousands)'])\n",
    "print(newSchema)"
   ]
  },
  {
   "cell_type": "code",
   "execution_count": 46,
   "metadata": {},
   "outputs": [
    {
     "name": "stdout",
     "output_type": "stream",
     "text": [
      "Old Schema Mean is 68.03 and standard deviation is 20.46\n"
     ]
    }
   ],
   "source": [
    "print('Old Schema Mean is %3.2f and standard deviation is %3.2f' %(oldSchema.mean(),np.std(oldSchema,ddof = 1)))"
   ]
  },
  {
   "cell_type": "code",
   "execution_count": 47,
   "metadata": {},
   "outputs": [
    {
     "name": "stdout",
     "output_type": "stream",
     "text": [
      "New Schema Mean is 72.03 and standard deviation is 24.06\n"
     ]
    }
   ],
   "source": [
    "print('New Schema Mean is %3.2f and standard deviation is %3.2f' %(newSchema.mean(),np.std(newSchema,ddof = 1)))"
   ]
  },
  {
   "cell_type": "code",
   "execution_count": 48,
   "metadata": {},
   "outputs": [
    {
     "name": "stdout",
     "output_type": "stream",
     "text": [
      "P Value 0.131\n"
     ]
    }
   ],
   "source": [
    "t_statistic, p_value  =  stats.ttest_rel(oldSchema, newSchema)\n",
    "print('P Value %1.3f' % p_value) "
   ]
  },
  {
   "cell_type": "code",
   "execution_count": 49,
   "metadata": {},
   "outputs": [
    {
     "name": "stdout",
     "output_type": "stream",
     "text": [
      "p value is 0.131 and it is less than 5% level of significance\n",
      "So the statistical decision is to reject the null hypothesis at 5% level of significance.\n"
     ]
    }
   ],
   "source": [
    "# What conclusion does the test (p-value) lead to?\n",
    "print(\"p value is 0.131 and it is less than 5% level of significance\")\n",
    "\n",
    "print(\"So the statistical decision is to reject the null hypothesis at 5% level of significance.\")"
   ]
  },
  {
   "cell_type": "code",
   "execution_count": null,
   "metadata": {},
   "outputs": [],
   "source": []
  },
  {
   "cell_type": "code",
   "execution_count": 50,
   "metadata": {},
   "outputs": [
    {
     "name": "stdout",
     "output_type": "stream",
     "text": [
      "P Value 0.131\n"
     ]
    }
   ],
   "source": [
    "t_statistic, p_value  =  stats.ttest_1samp(D, 0)\n",
    "print('P Value %1.3f' % p_value)  "
   ]
  },
  {
   "cell_type": "code",
   "execution_count": 51,
   "metadata": {},
   "outputs": [
    {
     "name": "stdout",
     "output_type": "stream",
     "text": [
      "50007\n"
     ]
    }
   ],
   "source": [
    "n         = 30    # sample size\n",
    "sigma     = 24 # population standard deviation\n",
    "serr      = sigma / np.sqrt(n) # Standard Error\n",
    "\n",
    "alpha     = 0.05     # significance level\n",
    "mu0       = 50000 #  hypothetical lower bound\n",
    "q         = int(round(stats.norm.isf(q = alpha, loc = mu0, scale = serr),0))\n",
    "print(q)"
   ]
  },
  {
   "cell_type": "code",
   "execution_count": 52,
   "metadata": {},
   "outputs": [
    {
     "name": "stdout",
     "output_type": "stream",
     "text": [
      "At 5 % level of significance, the probability of having type I error\n",
      "       for a sample size of 30  is 0.0551\n"
     ]
    }
   ],
   "source": [
    "#The probability of a type 1 error?\n",
    "mu1  = 50000 # Actual mean\n",
    "\n",
    "p = round(1 - stats.norm.cdf(q, loc = mu1, scale = serr),4)\n",
    "print('At 5 %s level of significance, the probability of having type I error\\n\\\n",
    "       for a sample size of 30  is %2.4f' %('%',p))\n"
   ]
  },
  {
   "cell_type": "code",
   "execution_count": 34,
   "metadata": {},
   "outputs": [
    {
     "name": "stdout",
     "output_type": "stream",
     "text": [
      "At 5 % level of significance, the POWER OF THE TEST\n",
      "       for a sample size of is 0.9449\n"
     ]
    }
   ],
   "source": [
    "#Power of the test \n",
    "print('At 5 %s level of significance, the POWER OF THE TEST\\n \\\n",
    "      for a sample size of is %2.4f' %('%',1 - p))"
   ]
  },
  {
   "cell_type": "code",
   "execution_count": 37,
   "metadata": {},
   "outputs": [
    {
     "name": "stdout",
     "output_type": "stream",
     "text": [
      "[  5  19  -5   7   0  13  -3  -6  -6  25  17  21  21 -14  -7  19  -7 -34\n",
      "  -7  13  13   9 -11  11  18 -19   8  -7   9  18]\n",
      "Mean is 4.00 and standard deviation is 14.08\n"
     ]
    }
   ],
   "source": [
    "#What is the p- value of the hypothesis test if we test for a difference of $5000? (10 points)\n",
    "D  = newSchema - oldSchema\n",
    "print(D)\n",
    "print('Mean is %3.2f and standard deviation is %3.2f' %(D.mean(), np.std(D,ddof = 1)))"
   ]
  },
  {
   "cell_type": "code",
   "execution_count": 53,
   "metadata": {},
   "outputs": [
    {
     "name": "stdout",
     "output_type": "stream",
     "text": [
      "50004\n"
     ]
    }
   ],
   "source": [
    "n         = 30    # sample size\n",
    "sigma     = 14 # population standard deviation\n",
    "serr      = sigma / np.sqrt(n) # Standard Error\n",
    "\n",
    "alpha     = 0.05     # significance level\n",
    "mu0       = 50000 #  hypothetical lower bound\n",
    "q         = int(round(stats.norm.isf(q = alpha, loc = mu0, scale = serr),0))\n",
    "print(q)"
   ]
  },
  {
   "cell_type": "code",
   "execution_count": 54,
   "metadata": {},
   "outputs": [
    {
     "name": "stdout",
     "output_type": "stream",
     "text": [
      "At 5 % level of significance, the probability of having type I error\n",
      "       for a sample size of 30  is 0.0588\n"
     ]
    }
   ],
   "source": [
    "#The probability of a type 1 error?\n",
    "mu1  = 50000 # Actual mean\n",
    "\n",
    "p = round(1 - stats.norm.cdf(q, loc = mu1, scale = serr),4)\n",
    "print('At 5 %s level of significance, the probability of having type I error\\n\\\n",
    "       for a sample size of 30  is %2.4f' %('%',p))"
   ]
  },
  {
   "cell_type": "code",
   "execution_count": null,
   "metadata": {},
   "outputs": [],
   "source": []
  }
 ],
 "metadata": {
  "kernelspec": {
   "display_name": "Python 3",
   "language": "python",
   "name": "python3"
  },
  "language_info": {
   "codemirror_mode": {
    "name": "ipython",
    "version": 3
   },
   "file_extension": ".py",
   "mimetype": "text/x-python",
   "name": "python",
   "nbconvert_exporter": "python",
   "pygments_lexer": "ipython3",
   "version": "3.6.4"
  }
 },
 "nbformat": 4,
 "nbformat_minor": 2
}
